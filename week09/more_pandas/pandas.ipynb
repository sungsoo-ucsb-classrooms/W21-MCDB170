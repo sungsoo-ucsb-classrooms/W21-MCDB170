{
 "cells": [
  {
   "cell_type": "markdown",
   "metadata": {
    "colab_type": "text",
    "id": "VRfYNak5tpvD"
   },
   "source": [
    "# ***Pandas***"
   ]
  },
  {
   "cell_type": "markdown",
   "metadata": {},
   "source": [
    "<sub>Acknowledgement: This notebook summarizing basics of pandas was provided by Hyun Min Kang, an Associate Professor of BioStatistics at the School of Public Health, University of Michigan, Ann Arbor.</sub>"
   ]
  },
  {
   "cell_type": "markdown",
   "metadata": {
    "colab_type": "text",
    "id": "sn27qAlgDdkk"
   },
   "source": [
    "### Creating a data frame\n",
    "\n",
    "* Creating a dataframe can be done from a dictionary, or a list of list"
   ]
  },
  {
   "cell_type": "code",
   "execution_count": null,
   "metadata": {
    "colab": {},
    "colab_type": "code",
    "id": "yZd7CCAgDhmm"
   },
   "outputs": [],
   "source": [
    "import pandas as pd\n",
    "df1 = pd.DataFrame({'x':[1,2,3],'y':[3,2,1],'s':['a','b','c']})\n",
    "print(df1)\n",
    "df2 = pd.DataFrame([[1,3,'a'],[2,2,'b'],[3,1,'c']],columns=['x','y','s'])\n",
    "print(df2)"
   ]
  },
  {
   "cell_type": "markdown",
   "metadata": {
    "colab_type": "text",
    "id": "rLGOWsW9Enri"
   },
   "source": [
    "### Reading data from a local file\n",
    "\n",
    "* `pandas` provides `read_csv` function to read comma-separated or tab-separated files\n",
    "* `.head() function prints first few rows only\n",
    "* `.columns` attribute list all columns\n",
    "* '.describe()' function provides a basic summary of each column"
   ]
  },
  {
   "cell_type": "code",
   "execution_count": null,
   "metadata": {
    "colab": {},
    "colab_type": "code",
    "id": "-QYlUOV9Te8b"
   },
   "outputs": [],
   "source": [
    "!head sample_data/tips.csv"
   ]
  },
  {
   "cell_type": "code",
   "execution_count": null,
   "metadata": {
    "colab": {},
    "colab_type": "code",
    "id": "qgBbhhFpuR93"
   },
   "outputs": [],
   "source": [
    "import pandas as pd\n",
    "\n",
    "# Read the file\n",
    "df = pd.read_csv(\"sample_data/tips.csv\")\n",
    "\n",
    "# print the very beginning\n",
    "print(df.head(5))"
   ]
  },
  {
   "cell_type": "code",
   "execution_count": null,
   "metadata": {
    "colab": {},
    "colab_type": "code",
    "id": "viqjM1imUKA-"
   },
   "outputs": [],
   "source": [
    "# print the column name\n",
    "for i, v in enumerate(df.columns):  \n",
    "  print(i,\":\",v) # print the column index  name\n",
    "  \n",
    "# how big is the data?\n",
    "print(\"Size:\",df.shape)\n",
    "\n",
    "# get the basic statistics of each column\n",
    "print(df.describe())"
   ]
  },
  {
   "cell_type": "markdown",
   "metadata": {
    "colab_type": "text",
    "id": "EKjWvKv9co7t"
   },
   "source": [
    "### Reading data online\n",
    "\n",
    "* You can also read files online using a URL"
   ]
  },
  {
   "cell_type": "code",
   "execution_count": null,
   "metadata": {
    "colab": {},
    "colab_type": "code",
    "id": "Ei8YqRXHotsd"
   },
   "outputs": [],
   "source": [
    "import pandas as pd\n",
    "\n",
    "# Obtain the URL to download the raw data\n",
    "url = \"https://raw.githubusercontent.com/jennybc/gapminder/master/data-raw/08_gap-every-five-years.tsv\"\n",
    "gap = pd.read_csv(url, sep='\\t')  # for tsv file, use sep='\\t'\n",
    "print(gap.head(n=5))  # print the beginning of the data"
   ]
  },
  {
   "cell_type": "markdown",
   "metadata": {
    "colab_type": "text",
    "id": "3fQftIMtXDTo"
   },
   "source": [
    "### Exploring pandas dataframe\n",
    "\n",
    "* `.sample()` function randomly sample rows\n",
    "* Columns can be accessed as if it is an attribute, or using '[]' like dictionary"
   ]
  },
  {
   "cell_type": "code",
   "execution_count": null,
   "metadata": {
    "colab": {},
    "colab_type": "code",
    "id": "a4jmXvBXXGuV"
   },
   "outputs": [],
   "source": [
    "# Get a random sample of the data\n",
    "print(gap.sample(n=5))\n",
    "\n",
    "# Accessing column can be done like an attribute\n",
    "print(gap.country[11:13])\n",
    "\n",
    "# Or accessed like a dictionary\n",
    "print(gap['country'][11:13])"
   ]
  },
  {
   "cell_type": "markdown",
   "metadata": {
    "colab_type": "text",
    "id": "S5g8-3TkZRtp"
   },
   "source": [
    "### Asking basic questions about the data\n",
    "\n",
    "* `.unique()` or `.describe()` function can answer some exploratory questions"
   ]
  },
  {
   "cell_type": "code",
   "execution_count": null,
   "metadata": {
    "colab": {},
    "colab_type": "code",
    "id": "o80fsgh5Yh4Y"
   },
   "outputs": [],
   "source": [
    "# How many countries exist?\n",
    "print(len(gap.country.unique()))\n",
    "\n",
    "# How many years exist?\n",
    "print(len(gap.year.unique()))\n",
    "\n",
    "# What are available continents?\n",
    "print(gap.continent.unique())\n",
    "\n",
    "# Get the basic summary of Life Expectancy\n",
    "print(gap.lifeExp.describe())"
   ]
  },
  {
   "cell_type": "markdown",
   "metadata": {
    "colab_type": "text",
    "id": "QQw7Oj50a7nn"
   },
   "source": [
    "### Subsetting and slicing data\n",
    "\n",
    "* You may subset or slice specific rows by condition"
   ]
  },
  {
   "cell_type": "code",
   "execution_count": null,
   "metadata": {
    "colab": {},
    "colab_type": "code",
    "id": "0b4i5VerZ_-R"
   },
   "outputs": [],
   "source": [
    "# I want to extract only USA data\n",
    "gap_usa = gap[gap.country == 'United States']\n",
    "print(gap_usa.shape)\n",
    "print(gap_usa)"
   ]
  },
  {
   "cell_type": "code",
   "execution_count": null,
   "metadata": {
    "colab": {},
    "colab_type": "code",
    "id": "dPzV7zNYaSvW"
   },
   "outputs": [],
   "source": [
    "# I want to extract only 1952 and 2007 data\n",
    "gap_55yr = gap[gap.year.isin([1952,2007])]\n",
    "print(gap_55yr.shape)\n",
    "print(gap_55yr.sample(n=5))"
   ]
  },
  {
   "cell_type": "markdown",
   "metadata": {
    "colab_type": "text",
    "id": "zfaxpuhmzV36"
   },
   "source": [
    "### Reshaping from tall to wide data\n",
    "\n",
    "* `.pivot()` function allows conversion from tall to wide"
   ]
  },
  {
   "cell_type": "code",
   "execution_count": null,
   "metadata": {
    "colab": {},
    "colab_type": "code",
    "id": "xQDwfHRtaulm"
   },
   "outputs": [],
   "source": [
    "gap_diff = gap_55yr.pivot(index='country',columns='year',values='lifeExp')\n",
    "gap_diff.reset_index(inplace=True)  # make country as column name again\n",
    "\n"
   ]
  },
  {
   "cell_type": "code",
   "execution_count": null,
   "metadata": {
    "colab": {},
    "colab_type": "code",
    "id": "qCfCP7g6C-xA"
   },
   "outputs": [],
   "source": [
    "# define a new column 'Diff'\n",
    "gap_diff['Diff'] = gap_diff[2007] - gap_diff[1952]\n",
    "# define a new column 'Ratio'\n",
    "gap_diff['Ratio'] = gap_diff[2007]/gap_diff[1952]\n",
    "\n",
    "gap_diff.columns=['country','1952','2007','Diff','Ratio'] # rename columns"
   ]
  },
  {
   "cell_type": "code",
   "execution_count": null,
   "metadata": {
    "colab": {},
    "colab_type": "code",
    "id": "oTRya-bjDBTj"
   },
   "outputs": [],
   "source": [
    "# print random rows\n",
    "print(gap_diff.sample(n=5))"
   ]
  },
  {
   "cell_type": "code",
   "execution_count": null,
   "metadata": {
    "colab": {},
    "colab_type": "code",
    "id": "Vy4SAOtfzbrP"
   },
   "outputs": [],
   "source": [
    "print(gap_diff.describe())"
   ]
  },
  {
   "cell_type": "markdown",
   "metadata": {
    "colab_type": "text",
    "id": "-qKfpanm2ldQ"
   },
   "source": [
    "### Changing from wide to tall data\n",
    "\n",
    "* `.melt()` function allows conversion from wide to tall data."
   ]
  },
  {
   "cell_type": "code",
   "execution_count": null,
   "metadata": {
    "colab": {},
    "colab_type": "code",
    "id": "eg5k4hOG2sDS"
   },
   "outputs": [],
   "source": [
    "gap_diff_t = gap_diff.melt(id_vars = ['country'],  # columns used as ID\n",
    "                           value_vars = ['Diff','Ratio'], # columns to melt\n",
    "                           var_name = 'type',      # column names becomes variable\n",
    "                           value_name = 'value')   # values in columns becomes value\n",
    "print(gap_diff_t.sample(n=5))"
   ]
  },
  {
   "cell_type": "markdown",
   "metadata": {
    "colab_type": "text",
    "id": "lUx85bT09nrF"
   },
   "source": [
    "### Concatenating and merging dataframes\n",
    "\n",
    "* You may concatenate two dataframes by rows or by columns (if consistently ordered)\n",
    "* You may use `.merge()` function to combine the data when overlapping objects are not ordered in the same way"
   ]
  },
  {
   "cell_type": "code",
   "execution_count": null,
   "metadata": {
    "colab": {},
    "colab_type": "code",
    "id": "xZlFBzos3h9M"
   },
   "outputs": [],
   "source": [
    "# I want to extract only 1952 and 2007 data\n",
    "gap_1952 = gap[gap.year == 1952]\n",
    "gap_2007 = gap[gap.year == 2007]\n",
    "\n",
    "gap_55yr_v2 = pd.concat([gap_1952,gap_2007],axis=0) # combine rows\n",
    "\n",
    "print(gap_55yr_v2.sample(n=5))\n",
    "print(gap_55yr.shape)\n",
    "print(gap_55yr_v2.shape)"
   ]
  },
  {
   "cell_type": "code",
   "execution_count": null,
   "metadata": {
    "colab": {},
    "colab_type": "code",
    "id": "fmq2UdIG70bs"
   },
   "outputs": [],
   "source": [
    "# merge the two data horizontally\n",
    "gap_55yr_v3 = gap_1952.merge(gap_2007, on = ['country','continent'], suffixes=['_1952','_2007'])\n",
    "\n",
    "# print the column names of merged data\n",
    "print(gap_55yr_v3.columns)\n",
    "\n",
    "# print a peek of the contents\n",
    "print(gap_55yr_v3.sample(n=5))"
   ]
  },
  {
   "cell_type": "markdown",
   "metadata": {
    "colab_type": "text",
    "id": "z_IFnRPNCFI-"
   },
   "source": [
    "### Grouping, aggregating and sorting\n",
    "\n",
    "* Use `.groupby()` function to create a new DataFrame aggregating on specific attributes\n",
    "* `.sort_values()` can sort a DataFrame by specific columns"
   ]
  },
  {
   "cell_type": "code",
   "execution_count": null,
   "metadata": {
    "colab": {},
    "colab_type": "code",
    "id": "OHow_PTl9c9k"
   },
   "outputs": [],
   "source": [
    "# group by country, and get avg values\n",
    "gap_grp = gap.groupby(by=['country','continent']).mean()\n",
    "print(gap_grp.head(n=10))"
   ]
  },
  {
   "cell_type": "code",
   "execution_count": null,
   "metadata": {
    "colab": {},
    "colab_type": "code",
    "id": "N8H6ZF2VCBML"
   },
   "outputs": [],
   "source": [
    "# sort by avg life expectancy\n",
    "gap_grp.sort_values('lifeExp',ascending=False,inplace=True)\n",
    "print(gap_grp.head(n=10))"
   ]
  },
  {
   "cell_type": "markdown",
   "metadata": {
    "colab_type": "text",
    "id": "O4FPZGqr9yMl"
   },
   "source": [
    "### Very basic plotting with pandas"
   ]
  },
  {
   "cell_type": "code",
   "execution_count": null,
   "metadata": {
    "colab": {},
    "colab_type": "code",
    "id": "h1TJnJof95Lr"
   },
   "outputs": [],
   "source": [
    "import pandas as pd\n",
    "\n",
    "url = \"https://raw.githubusercontent.com/jennybc/gapminder/master/data-raw/08_gap-every-five-years.tsv\"\n",
    "gap = pd.read_csv(url, sep='\\t')  # for tsv file, use sep='\\t'"
   ]
  },
  {
   "cell_type": "code",
   "execution_count": null,
   "metadata": {
    "colab": {},
    "colab_type": "code",
    "id": "OLxpgNPy-EId"
   },
   "outputs": [],
   "source": [
    "# get the histogram of life Expectancy in 2007\n",
    "gap_2007 = gap[gap.year == 2007]\n",
    "gap_2007.lifeExp.plot.hist(bins=20)"
   ]
  },
  {
   "cell_type": "code",
   "execution_count": null,
   "metadata": {
    "colab": {},
    "colab_type": "code",
    "id": "ydTaoGlT-_dn"
   },
   "outputs": [],
   "source": [
    "# Visualize how life expectancy changed in US since 1952\n",
    "gap_usa = gap[gap.country == 'United States']\n",
    "gap_usa.plot.scatter(x='year',y='lifeExp')"
   ]
  },
  {
   "cell_type": "code",
   "execution_count": null,
   "metadata": {},
   "outputs": [],
   "source": []
  },
  {
   "cell_type": "code",
   "execution_count": null,
   "metadata": {},
   "outputs": [],
   "source": []
  }
 ],
 "metadata": {
  "kernelspec": {
   "display_name": "Python 3",
   "language": "python",
   "name": "python3"
  },
  "language_info": {
   "codemirror_mode": {
    "name": "ipython",
    "version": 3
   },
   "file_extension": ".py",
   "mimetype": "text/x-python",
   "name": "python",
   "nbconvert_exporter": "python",
   "pygments_lexer": "ipython3",
   "version": "3.7.4"
  }
 },
 "nbformat": 4,
 "nbformat_minor": 4
}
