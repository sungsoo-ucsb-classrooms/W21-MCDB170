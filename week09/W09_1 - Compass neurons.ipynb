{
 "cells": [
  {
   "cell_type": "markdown",
   "metadata": {},
   "source": [
    "---"
   ]
  },
  {
   "cell_type": "markdown",
   "metadata": {},
   "source": [
    "## ***Compass neurons***"
   ]
  },
  {
   "cell_type": "markdown",
   "metadata": {},
   "source": [
    "[Link to the paper](./ring_attractor.pdf)\n",
    "\n",
    "The equation of a ring attractor is shown below.\n",
    "\n",
    "<center>$ \\tau\\displaystyle\\frac{\\partial f_n}{\\partial t} = -f_n+\\bigg[  \\alpha f_n + D( f_{n+1}+ f_{n-1} -2f_n) - \\beta \\sum_{m=0}^{N-1}f_m +1 \\bigg]_+$ </center>\n",
    "\n",
    "$f_n$ is the activity of a compass neuron with an index, $n$<br>\n",
    "$N=32$ is the number of compass neurons (i.e, there are 32 similar equations)<br>\n",
    "$ [x]_+ $ is a rectification function (that is, if $x<0$, it becomes zero).<br>\n",
    "$\\tau = 0.05$ is a decay time constant (if there is no input, the neuron's activity decays)<br>\n",
    "$\\alpha = 2.62$ is the strength of self-recurrent connection<br>\n",
    "$\\beta = 1.96$ is the strength of uniform inhibition<br>\n",
    "$D=5.19$ is the strength of recurrent excitation between neighboring compass neurons<br>\n",
    "The constant term $1$ is a uniform excitatory drive that generates activity in the system.<br>\n",
    "The initial value of $f_n$ can be set `yinit = np.random.random(size=(32))*0.08`<br>\n",
    "\n"
   ]
  },
  {
   "cell_type": "code",
   "execution_count": 93,
   "metadata": {},
   "outputs": [],
   "source": [
    "import numpy as np\n",
    "from scipy.integrate import solve_ivp\n",
    "\n",
    "def RingAttractorODEs(t,f):\n",
    "    \n",
    "    tau = 0.05\n",
    "    alpha = 2.6183\n",
    "    beta = 1.9635\n",
    "    D = 5.1876\n",
    "    n_neurons = 32;\n",
    "    \n",
    "    #f_np1 = f[  list(range(1,n_neurons)) + [0]   ]\n",
    "    #f_nm1 = f[  [-1] + list(range(n_neurons-1))  ]\n",
    "    #tmp = alpha*f + D*(f_np1+f_nm1-2*f) - beta*sum(f)  + 1\n",
    "    \n",
    "    tmp = alpha*f + D*(np.roll(f,-1) + np.roll(f,1) - 2*f) - beta*f.sum()  + 1 \n",
    "    tmp[tmp<0] = 0\n",
    "    \n",
    "    dfdt = (  -f + tmp )/tau\n",
    "    \n",
    "    return dfdt"
   ]
  },
  {
   "cell_type": "code",
   "execution_count": 98,
   "metadata": {},
   "outputs": [],
   "source": [
    "tspan = np.linspace(0, 1, 100)\n",
    "f_init = np.random.random(size=(32,))*0.08\n",
    "\n",
    "sol = solve_ivp(RingAttractorODEs,\n",
    "                [tspan[0], tspan[-1]], f_init, t_eval=tspan)"
   ]
  },
  {
   "cell_type": "code",
   "execution_count": 99,
   "metadata": {},
   "outputs": [
    {
     "data": {
      "text/plain": [
       "<matplotlib.image.AxesImage at 0x7fd379aef250>"
      ]
     },
     "execution_count": 99,
     "metadata": {},
     "output_type": "execute_result"
    },
    {
     "data": {
      "image/png": "[encoded data removed]",
      "text/plain": [
       "<Figure size 864x720 with 1 Axes>"
      ]
     },
     "metadata": {
      "needs_background": "light"
     },
     "output_type": "display_data"
    }
   ],
   "source": [
    "import matplotlib.pyplot as plt\n",
    "plt.figure(1, figsize=(12,10))\n",
    "plt.imshow(sol.y, extent=[0,tspan[-1],32.5,0.5], aspect=tspan[-1]/32/8)\n"
   ]
  },
  {
   "cell_type": "code",
   "execution_count": null,
   "metadata": {},
   "outputs": [],
   "source": []
  }
 ],
 "metadata": {
  "kernelspec": {
   "display_name": "Python 3",
   "language": "python",
   "name": "python3"
  },
  "language_info": {
   "codemirror_mode": {
    "name": "ipython",
    "version": 3
   },
   "file_extension": ".py",
   "mimetype": "text/x-python",
   "name": "python",
   "nbconvert_exporter": "python",
   "pygments_lexer": "ipython3",
   "version": "3.7.4"
  }
 },
 "nbformat": 4,
 "nbformat_minor": 4
}
