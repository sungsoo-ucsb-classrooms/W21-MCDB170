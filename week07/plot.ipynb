{
 "cells": [
  {
   "cell_type": "markdown",
   "metadata": {
    "colab_type": "text",
    "id": "OBRr4Poc5BLo"
   },
   "source": [
    "# ***Plot***"
   ]
  },
  {
   "cell_type": "markdown",
   "metadata": {},
   "source": [
    "<sub>Acknowledgement: This notebook describing basics of Matplotlib was provided by Hyun Min Kang, an Associate Professor of BioStatistics at the School of Public Health, University of Michigan, Ann Arbor.</sub>"
   ]
  },
  {
   "cell_type": "markdown",
   "metadata": {
    "colab_type": "text",
    "id": "doDy_QbD5HJb"
   },
   "source": [
    "## Matplotlib"
   ]
  },
  {
   "cell_type": "markdown",
   "metadata": {
    "colab_type": "text",
    "id": "Opryr3VV5UWa"
   },
   "source": [
    "### Basic syntax of matplotlib"
   ]
  },
  {
   "cell_type": "code",
   "execution_count": null,
   "metadata": {
    "colab": {},
    "colab_type": "code",
    "id": "UDpdoz3L4nd2"
   },
   "outputs": [],
   "source": [
    "import matplotlib.pyplot as plt\n",
    "year = [2014, 2015, 2016, 2017, 2018]\n",
    "revenue = [182.8, 233.7, 215.6, 229.2, 265.6]\n",
    "plt.plot(year, revenue)\n",
    "plt.show()"
   ]
  },
  {
   "cell_type": "code",
   "execution_count": null,
   "metadata": {
    "colab": {},
    "colab_type": "code",
    "id": "WEbOgBjZDO5a"
   },
   "outputs": [],
   "source": [
    "plt.scatter(year,revenue)\n",
    "plt.show()"
   ]
  },
  {
   "cell_type": "markdown",
   "metadata": {
    "colab_type": "text",
    "id": "lFyD3FJx_x9R"
   },
   "source": [
    "### Understanding the elements of figures"
   ]
  },
  {
   "cell_type": "code",
   "execution_count": null,
   "metadata": {
    "colab": {},
    "colab_type": "code",
    "id": "IrWGnfX5__bg"
   },
   "outputs": [],
   "source": [
    "fig = plt.figure() # empty figure\n",
    "ax = fig.add_axes([0,0,1,1]) # add a default axis"
   ]
  },
  {
   "cell_type": "code",
   "execution_count": null,
   "metadata": {
    "colab": {},
    "colab_type": "code",
    "id": "M9HyaFJtCJIE"
   },
   "outputs": [],
   "source": [
    "fig = plt.figure()\n",
    "# add an axis with wide rect, and specific ranges\n",
    "ax = fig.add_axes([0,0,1,0.5], xlim=(2014,2018), ylim=(180,270))"
   ]
  },
  {
   "cell_type": "code",
   "execution_count": null,
   "metadata": {
    "colab": {},
    "colab_type": "code",
    "id": "bC0u1p91Ctbz"
   },
   "outputs": [],
   "source": [
    "fig = plt.figure()\n",
    "ax = fig.add_axes([0,0,1,0.5], xlim=(2014,2018), ylim=(180,270),\n",
    "                 xticks=[2014, 2015, 2016, 2017, 2018],\n",
    "                 xlabel = 'Year', ylabel = 'Billion Dollars')\n",
    "ax.grid(True)  # add grid"
   ]
  },
  {
   "cell_type": "code",
   "execution_count": null,
   "metadata": {
    "colab": {},
    "colab_type": "code",
    "id": "VJVjh42nDsfh"
   },
   "outputs": [],
   "source": [
    "fig = plt.figure()\n",
    "ax = fig.add_axes([0,0,1,0.5], xlim=(2014,2018), ylim=(180,270),\n",
    "                 xticks=[2014, 2015, 2016, 2017, 2018],\n",
    "                 xlabel = 'Year', ylabel = 'Billion Dollars')\n",
    "ax.grid(True)\n",
    "ax.plot(year,revenue) # add a line plot"
   ]
  },
  {
   "cell_type": "code",
   "execution_count": null,
   "metadata": {
    "colab": {},
    "colab_type": "code",
    "id": "iiEVH_3wIAr5"
   },
   "outputs": [],
   "source": [
    "fig = plt.figure()  # note the change in the rectangle specs\n",
    "ax = fig.add_axes([0,0.4,1,0.5], xlim=(2014,2018), ylim=(180,270),\n",
    "                 xticks=[2014, 2015, 2016, 2017, 2018],\n",
    "                 xlabel = 'Year', ylabel = 'Billion Dollars')\n",
    "ax.grid(True)\n",
    "fig.suptitle('Market Capita of Apple Stocks') # added title\n",
    "ax.plot(year,revenue)"
   ]
  },
  {
   "cell_type": "markdown",
   "metadata": {
    "colab_type": "text",
    "id": "xe9Qtj5HKOoO"
   },
   "source": [
    "### Working with subplots"
   ]
  },
  {
   "cell_type": "code",
   "execution_count": null,
   "metadata": {
    "colab": {},
    "colab_type": "code",
    "id": "UcuNngZYKruu"
   },
   "outputs": [],
   "source": [
    "import pandas as pd\n",
    "\n",
    "url = \"https://raw.githubusercontent.com/jennybc/gapminder/master/data-raw/08_gap-every-five-years.tsv\"\n",
    "gap = pd.read_csv(url, sep='\\t')  # for tsv file, use sep='\\t'\n",
    "gap_usa = gap[gap.country == 'United States']"
   ]
  },
  {
   "cell_type": "code",
   "execution_count": null,
   "metadata": {
    "colab": {},
    "colab_type": "code",
    "id": "Y7iBxjFPKuh5"
   },
   "outputs": [],
   "source": [
    "fig = plt.figure()\n",
    "ax1 = fig.add_axes([0,0.5,1,0.4]) # specify the locations \n",
    "ax2 = fig.add_axes([0,0,1,0.4])   # of each subplots\n",
    "ax1.plot(gap_usa.year, gap_usa.lifeExp)\n",
    "ax2.plot(gap_usa.year, gap_usa.gdpPercap)\n",
    "ax1.grid(True)\n",
    "ax2.grid(True)\n",
    "fig.suptitle(\"USA's Life Quality Metrics over 55 years\")"
   ]
  },
  {
   "cell_type": "code",
   "execution_count": null,
   "metadata": {
    "colab": {},
    "colab_type": "code",
    "id": "CauQQK68RDUk"
   },
   "outputs": [],
   "source": [
    "fig, ax_lst = plt.subplots(2,1) # num_rows x num_cols\n",
    "ax_lst[0].plot(gap_usa.year, gap_usa.lifeExp)   # modify each\n",
    "ax_lst[1].plot(gap_usa.year, gap_usa.gdpPercap) # axis as needed\n",
    "ax_lst[0].grid(True)\n",
    "ax_lst[1].grid(True)\n",
    "fig.suptitle(\"USA's Life Quality Metrics over 55 years\")"
   ]
  },
  {
   "cell_type": "markdown",
   "metadata": {
    "colab_type": "text",
    "id": "WRd2K4mf6-iC"
   },
   "source": [
    "### Creating a histogram"
   ]
  },
  {
   "cell_type": "code",
   "execution_count": null,
   "metadata": {
    "colab": {},
    "colab_type": "code",
    "id": "ch80be-A6Q1R"
   },
   "outputs": [],
   "source": [
    "gap_2007 = gap[gap.year == 2007]\n",
    "fig, ax = plt.subplots(1,1) # subplot can be used for 1 plot\n",
    "ax.set_xlabel('Life Expectancy')\n",
    "ax.set_ylabel('Count of countries')\n",
    "ax.hist(gap_2007['lifeExp'], bins=20, edgecolor='black')"
   ]
  },
  {
   "cell_type": "markdown",
   "metadata": {
    "colab_type": "text",
    "id": "Pm8v2T-iUlA2"
   },
   "source": [
    "### Creating a scatterplot"
   ]
  },
  {
   "cell_type": "code",
   "execution_count": null,
   "metadata": {
    "colab": {},
    "colab_type": "code",
    "id": "ubWTpz3yUpOH"
   },
   "outputs": [],
   "source": [
    "gap_2007 = gap[gap.year == 2007]\n",
    "fig, ax = plt.subplots(1,1) # subplot can be used for 1 plot\n",
    "ax.set_xlabel('GDP per Capita')\n",
    "ax.set_ylabel('Life Expectancy')\n",
    "ax.scatter(x=gap_2007.gdpPercap, y=gap_2007.lifeExp)"
   ]
  },
  {
   "cell_type": "markdown",
   "metadata": {
    "colab_type": "text",
    "id": "hE5C539MWiAr"
   },
   "source": [
    "### Multiplt plots in an axis with legend"
   ]
  },
  {
   "cell_type": "code",
   "execution_count": null,
   "metadata": {
    "colab": {},
    "colab_type": "code",
    "id": "C7DsTWnsVZgo"
   },
   "outputs": [],
   "source": [
    "gap_2007 = gap[gap.year == 2007]\n",
    "gap_1952 = gap[gap.year == 1952] # extract 1952 gapminder data\n",
    "fig, ax = plt.subplots(1,1) # subplot can be used for 1 plot\n",
    "ax.set_xlabel('GDP per Capita')\n",
    "ax.set_ylabel('Life Expectancy')\n",
    "ax.scatter(x=gap_2007.gdpPercap, y=gap_2007.lifeExp, label='2007') # label\n",
    "ax.scatter(x=gap_1952.gdpPercap, y=gap_1952.lifeExp, label='1952') # each fig\n",
    "ax.legend() # show the legend"
   ]
  }
 ],
 "metadata": {
  "kernelspec": {
   "display_name": "Python 3",
   "language": "python",
   "name": "python3"
  },
  "language_info": {
   "codemirror_mode": {
    "name": "ipython",
    "version": 3
   },
   "file_extension": ".py",
   "mimetype": "text/x-python",
   "name": "python",
   "nbconvert_exporter": "python",
   "pygments_lexer": "ipython3",
   "version": "3.7.4"
  }
 },
 "nbformat": 4,
 "nbformat_minor": 4
}
