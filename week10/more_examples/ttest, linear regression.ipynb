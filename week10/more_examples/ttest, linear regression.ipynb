{
 "cells": [
  {
   "cell_type": "markdown",
   "metadata": {
    "colab_type": "text",
    "id": "KtvMHtNpsnz3"
   },
   "source": [
    "# ***Statistical Inference with Python***"
   ]
  },
  {
   "cell_type": "markdown",
   "metadata": {},
   "source": [
    "<sub>Acknowledgement: This notebook providing examples of basic statistics in Python was provided by Hyun Min Kang, an Associate Professor of BioStatistics at the School of Public Health, University of Michigan, Ann Arbor.</sub>"
   ]
  },
  {
   "cell_type": "markdown",
   "metadata": {
    "colab_type": "text",
    "id": "19_aKsh5-dcv"
   },
   "source": [
    "### Student's t-test"
   ]
  },
  {
   "cell_type": "code",
   "execution_count": null,
   "metadata": {
    "colab": {},
    "colab_type": "code",
    "id": "lvUIpiCSyep3"
   },
   "outputs": [],
   "source": [
    "import numpy as np\n",
    "from scipy import stats\n",
    "\n",
    "x = np.random.randn(100)  # generate 100 random normal variables\n",
    "y = np.random.randn(100)  # generate another 100 random normal\n",
    "\n",
    "tstat, pval = stats.ttest_ind(x,y) # perform a student's t-test\n",
    "print(\"t = \" + str(tstat))\n",
    "print(\"p = \" + str(pval))\n",
    "\n",
    "x += 1                    # shift x by mean of 1\n",
    "tstat, pval = stats.ttest_ind(x,y) # perform another test\n",
    "print(\"t = \" + str(tstat))\n",
    "print(\"p = \" + str(pval))"
   ]
  },
  {
   "cell_type": "markdown",
   "metadata": {
    "colab_type": "text",
    "id": "UbbAGZ5RzMCx"
   },
   "source": [
    "### Linear Regression"
   ]
  },
  {
   "cell_type": "code",
   "execution_count": null,
   "metadata": {
    "colab": {},
    "colab_type": "code",
    "id": "ud81gDbC0XaY"
   },
   "outputs": [],
   "source": [
    "import pandas as pd\n",
    "from plotnine import *\n",
    "\n",
    "x = np.random.randn(100)\n",
    "y = np.random.randn(100) + x\n",
    "df = pd.DataFrame({\"x\":x, \"y\":y})\n",
    "print( ggplot(df) + aes(x,y) + geom_point() + labs(x=\"x\",y=\"y\"))"
   ]
  },
  {
   "cell_type": "code",
   "execution_count": null,
   "metadata": {
    "colab": {},
    "colab_type": "code",
    "id": "KcKr1S3mzLak"
   },
   "outputs": [],
   "source": [
    "from sklearn.linear_model import LinearRegression\n",
    "model = LinearRegression()\n",
    "\n",
    "X = x.reshape(-1,1)  # prepare the input as a matrix\n",
    "model.fit(X, y)      # fit with linear model"
   ]
  },
  {
   "cell_type": "code",
   "execution_count": null,
   "metadata": {
    "colab": {},
    "colab_type": "code",
    "id": "3rwtRUd5tz05"
   },
   "outputs": [],
   "source": [
    "print(model.score(X, y)) # calculate r^2 value"
   ]
  },
  {
   "cell_type": "code",
   "execution_count": null,
   "metadata": {
    "colab": {},
    "colab_type": "code",
    "id": "yIrad6qF0BZQ"
   },
   "outputs": [],
   "source": [
    "print(model.intercept_)  # estimate the intercept\n",
    "print(model.coef_)       # estimate the coefficient"
   ]
  },
  {
   "cell_type": "code",
   "execution_count": null,
   "metadata": {
    "colab": {},
    "colab_type": "code",
    "id": "OrbLVmFp0Sqr"
   },
   "outputs": [],
   "source": [
    "import statsmodels.api as sm\n",
    "from scipy import stats\n",
    "\n",
    "X2 = sm.add_constant(X) # Need to add intercept term \n",
    "est = sm.OLS(y, X2)     # Create a ordinary least square model\n",
    "est2 = est.fit()        # Fit the model\n",
    "print(est2.summary())   # Summarize the results"
   ]
  }
 ],
 "metadata": {
  "accelerator": "GPU",
  "colab": {
   "collapsed_sections": [],
   "name": "607_lec8.ipynb",
   "provenance": []
  },
  "kernelspec": {
   "display_name": "Python 3",
   "language": "python",
   "name": "python3"
  },
  "language_info": {
   "codemirror_mode": {
    "name": "ipython",
    "version": 3
   },
   "file_extension": ".py",
   "mimetype": "text/x-python",
   "name": "python",
   "nbconvert_exporter": "python",
   "pygments_lexer": "ipython3",
   "version": "3.7.4"
  }
 },
 "nbformat": 4,
 "nbformat_minor": 4
}
