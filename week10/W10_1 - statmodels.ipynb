{
 "cells": [
  {
   "cell_type": "markdown",
   "metadata": {},
   "source": [
    "# statsmodels"
   ]
  },
  {
   "cell_type": "markdown",
   "metadata": {},
   "source": [
    "[Link to the statsmodels homepage](https://www.statsmodels.org/)\n",
    "\n",
    "***`statsmodels`*** is a versatile Python package for statistical analyses. It provides the R-style model description with Pandas dataframe as well as raw Numpy arrays. Its analysis result is rich and full of detailed information.\n",
    "\n",
    "Many statistical models and corresponding fitting and testing routines are provided, including OLS, GLM, Logit, MANOVA, etc.\n",
    "\n",
    "It also provides some useful plotting routines.\n",
    "\n",
    "See [API Reference](https://www.statsmodels.org/stable/api.html) for a full list of models and functions.\n",
    "\n",
    "There are many commented examples on the internet. E.g.: \n",
    "- https://dius.com.au/2017/08/03/using-statsmodels-glms-to-model-beverage-consumption/\n",
    "- https://scipy-lectures.org/packages/statistics/index.html\n",
    "- http://www.randalolson.com/2012/08/06/statistical-analysis-made-easy-in-python/\n",
    "\n"
   ]
  },
  {
   "cell_type": "markdown",
   "metadata": {},
   "source": [
    "---"
   ]
  },
  {
   "cell_type": "markdown",
   "metadata": {},
   "source": [
    "***Jargon***: statsmodels uses two strange jargons: `exog`, and `endog`: `exog` means exogenous, i.e., independent variables or predictors (x). `endog` means endogenous, i.e., dependent variables (y)."
   ]
  },
  {
   "cell_type": "markdown",
   "metadata": {},
   "source": [
    "---"
   ]
  },
  {
   "cell_type": "markdown",
   "metadata": {},
   "source": [
    "Note: There is another statistical package called ***`scikit-learn`*** (see [here](https://scikit-learn.org/stable/tutorial/index.html)). It focuses on machine learning or statistical learning (regression, classification, pattern recognition, etc), whereas `statsmodels` focuses on statistical models and statistical tests (generalized linear models, t-test, analysis of variance, etc).  Finally, ***`scipy`*** has a huge collection of statistical functions and tests as well (see [here](https://docs.scipy.org/doc/scipy/reference/tutorial/stats.html)).  Which one to use in your application depends on your goal. For example, `statsmodels` provide a detailed analysis output. `scipy` statistics package provides efficient algorithms for many aspects of statistics. `scikit-learn` is specialized in machine learning.\n",
    "\n",
    "If you're interested in ***Biostatistics***, you should study all three packages as you learn statistics.\n",
    "\n",
    "cf) If you are interested in AI related machine learning (such as convolutional neural network or deep learning), the package you want to check is ***`TensorFlow`***. [Link](https://www.tensorflow.org/)\n",
    "\n",
    "If you are interested in Bayesian statistics, you should check ***`Pymc3`*** [Link](https://docs.pymc.io/) and ***`stan`*** [Link](https://pystan.readthedocs.io/) packages."
   ]
  },
  {
   "cell_type": "markdown",
   "metadata": {},
   "source": [
    "---"
   ]
  },
  {
   "cell_type": "markdown",
   "metadata": {},
   "source": [
    "For fun: https://www.gapminder.org/"
   ]
  },
  {
   "cell_type": "markdown",
   "metadata": {},
   "source": [
    "---"
   ]
  },
  {
   "cell_type": "code",
   "execution_count": 1,
   "metadata": {},
   "outputs": [],
   "source": [
    "import numpy as np\n",
    "import pandas as pd\n",
    "import statsmodels.api as sm\n",
    "import statsmodels.formula.api as smf"
   ]
  },
  {
   "cell_type": "code",
   "execution_count": 2,
   "metadata": {},
   "outputs": [
    {
     "data": {
      "text/html": [
       "<div>\n",
       "<style scoped>\n",
       "    .dataframe tbody tr th:only-of-type {\n",
       "        vertical-align: middle;\n",
       "    }\n",
       "\n",
       "    .dataframe tbody tr th {\n",
       "        vertical-align: top;\n",
       "    }\n",
       "\n",
       "    .dataframe thead th {\n",
       "        text-align: right;\n",
       "    }\n",
       "</style>\n",
       "<table border=\"1\" class=\"dataframe\">\n",
       "  <thead>\n",
       "    <tr style=\"text-align: right;\">\n",
       "      <th></th>\n",
       "      <th>Diagnosis</th>\n",
       "      <th>Radius</th>\n",
       "      <th>Texture</th>\n",
       "      <th>Perimeter</th>\n",
       "      <th>Area</th>\n",
       "      <th>Smoothness</th>\n",
       "      <th>Compactness</th>\n",
       "      <th>Concavity</th>\n",
       "      <th>Concave points</th>\n",
       "      <th>Symmetry</th>\n",
       "      <th>Fractal dimension</th>\n",
       "    </tr>\n",
       "    <tr>\n",
       "      <th>ID</th>\n",
       "      <th></th>\n",
       "      <th></th>\n",
       "      <th></th>\n",
       "      <th></th>\n",
       "      <th></th>\n",
       "      <th></th>\n",
       "      <th></th>\n",
       "      <th></th>\n",
       "      <th></th>\n",
       "      <th></th>\n",
       "      <th></th>\n",
       "    </tr>\n",
       "  </thead>\n",
       "  <tbody>\n",
       "    <tr>\n",
       "      <th>842302</th>\n",
       "      <td>M</td>\n",
       "      <td>17.99</td>\n",
       "      <td>10.38</td>\n",
       "      <td>122.80</td>\n",
       "      <td>1001.0</td>\n",
       "      <td>0.11840</td>\n",
       "      <td>0.27760</td>\n",
       "      <td>0.3001</td>\n",
       "      <td>0.14710</td>\n",
       "      <td>0.2419</td>\n",
       "      <td>0.07871</td>\n",
       "    </tr>\n",
       "    <tr>\n",
       "      <th>842517</th>\n",
       "      <td>M</td>\n",
       "      <td>20.57</td>\n",
       "      <td>17.77</td>\n",
       "      <td>132.90</td>\n",
       "      <td>1326.0</td>\n",
       "      <td>0.08474</td>\n",
       "      <td>0.07864</td>\n",
       "      <td>0.0869</td>\n",
       "      <td>0.07017</td>\n",
       "      <td>0.1812</td>\n",
       "      <td>0.05667</td>\n",
       "    </tr>\n",
       "    <tr>\n",
       "      <th>84300903</th>\n",
       "      <td>M</td>\n",
       "      <td>19.69</td>\n",
       "      <td>21.25</td>\n",
       "      <td>130.00</td>\n",
       "      <td>1203.0</td>\n",
       "      <td>0.10960</td>\n",
       "      <td>0.15990</td>\n",
       "      <td>0.1974</td>\n",
       "      <td>0.12790</td>\n",
       "      <td>0.2069</td>\n",
       "      <td>0.05999</td>\n",
       "    </tr>\n",
       "    <tr>\n",
       "      <th>84348301</th>\n",
       "      <td>M</td>\n",
       "      <td>11.42</td>\n",
       "      <td>20.38</td>\n",
       "      <td>77.58</td>\n",
       "      <td>386.1</td>\n",
       "      <td>0.14250</td>\n",
       "      <td>0.28390</td>\n",
       "      <td>0.2414</td>\n",
       "      <td>0.10520</td>\n",
       "      <td>0.2597</td>\n",
       "      <td>0.09744</td>\n",
       "    </tr>\n",
       "    <tr>\n",
       "      <th>84358402</th>\n",
       "      <td>M</td>\n",
       "      <td>20.29</td>\n",
       "      <td>14.34</td>\n",
       "      <td>135.10</td>\n",
       "      <td>1297.0</td>\n",
       "      <td>0.10030</td>\n",
       "      <td>0.13280</td>\n",
       "      <td>0.1980</td>\n",
       "      <td>0.10430</td>\n",
       "      <td>0.1809</td>\n",
       "      <td>0.05883</td>\n",
       "    </tr>\n",
       "  </tbody>\n",
       "</table>\n",
       "</div>"
      ],
      "text/plain": [
       "         Diagnosis  Radius  Texture  Perimeter    Area  Smoothness  \\\n",
       "ID                                                                   \n",
       "842302           M   17.99    10.38     122.80  1001.0     0.11840   \n",
       "842517           M   20.57    17.77     132.90  1326.0     0.08474   \n",
       "84300903         M   19.69    21.25     130.00  1203.0     0.10960   \n",
       "84348301         M   11.42    20.38      77.58   386.1     0.14250   \n",
       "84358402         M   20.29    14.34     135.10  1297.0     0.10030   \n",
       "\n",
       "          Compactness  Concavity  Concave points  Symmetry  Fractal dimension  \n",
       "ID                                                                             \n",
       "842302        0.27760     0.3001         0.14710    0.2419            0.07871  \n",
       "842517        0.07864     0.0869         0.07017    0.1812            0.05667  \n",
       "84300903      0.15990     0.1974         0.12790    0.2069            0.05999  \n",
       "84348301      0.28390     0.2414         0.10520    0.2597            0.09744  \n",
       "84358402      0.13280     0.1980         0.10430    0.1809            0.05883  "
      ]
     },
     "execution_count": 2,
     "metadata": {},
     "output_type": "execute_result"
    }
   ],
   "source": [
    "# The breast cancer data is in wdbc.data and wdbc.names. It was downloaded from: \n",
    "# https://archive.ics.uci.edu/ml/datasets/Breast+Cancer+Wisconsin+(Diagnostic)\n",
    "\n",
    "bcd = pd.read_csv('data/wdbc.data', header = None, usecols=np.arange(12), index_col=0)\n",
    "bcd.columns = [ 'Diagnosis', 'Radius','Texture', 'Perimeter', 'Area', 'Smoothness',\n",
    "              'Compactness','Concavity','Concave points','Symmetry','Fractal dimension']\n",
    "bcd.index.name = 'ID'\n",
    "bcd.head()"
   ]
  },
  {
   "cell_type": "markdown",
   "metadata": {},
   "source": [
    "# Statistics\n",
    "\n"
   ]
  },
  {
   "cell_type": "markdown",
   "metadata": {},
   "source": [
    "Below is an example of performing linear regression analysis. In R language (and statsmodels package), they often use a `formula` to describe the regression model spec. Below are two links about how to write a formula to describe a regression model.\n",
    "\n",
    "[R formular description](https://www.rdocumentation.org/packages/stats/versions/3.6.2/topics/formula) <br>\n",
    "[Another good description of the formula language](https://patsy.readthedocs.io/en/latest/formulas.html#the-formula-language)"
   ]
  },
  {
   "cell_type": "code",
   "execution_count": 9,
   "metadata": {},
   "outputs": [
    {
     "data": {
      "text/plain": [
       "[<matplotlib.lines.Line2D at 0x7fa3f85e9810>]"
      ]
     },
     "execution_count": 9,
     "metadata": {},
     "output_type": "execute_result"
    },
    {
     "data": {
      "image/png": "[encoded data removed]",
      "text/plain": [
       "<Figure size 432x288 with 1 Axes>"
      ]
     },
     "metadata": {
      "needs_background": "light"
     },
     "output_type": "display_data"
    }
   ],
   "source": [
    "bcd[\"Bool_Diagnosis\"] = (bcd[\"Diagnosis\"]=='M').astype('int')  # Categorical data can't be used for regression model\n",
    "\n",
    "import matplotlib.pyplot as plt\n",
    "plt.plot(bcd.Radius, bcd.Bool_Diagnosis, '.')\n",
    "plt.plot(bcd.Texture, bcd.Bool_Diagnosis, '.')"
   ]
  },
  {
   "cell_type": "code",
   "execution_count": 10,
   "metadata": {},
   "outputs": [
    {
     "name": "stdout",
     "output_type": "stream",
     "text": [
      "                            OLS Regression Results                            \n",
      "==============================================================================\n",
      "Dep. Variable:         Bool_Diagnosis   R-squared:                       0.566\n",
      "Model:                            OLS   Adj. R-squared:                  0.564\n",
      "Method:                 Least Squares   F-statistic:                     368.9\n",
      "Date:                Sat, 06 Mar 2021   Prob (F-statistic):          2.82e-103\n",
      "Time:                        07:44:36   Log-Likelihood:                -156.49\n",
      "No. Observations:                 569   AIC:                             319.0\n",
      "Df Residuals:                     566   BIC:                             332.0\n",
      "Df Model:                           2                                         \n",
      "Covariance Type:            nonrobust                                         \n",
      "==================================================================================\n",
      "                     coef    std err          t      P>|t|      [0.025      0.975]\n",
      "----------------------------------------------------------------------------------\n",
      "Intercept         -3.5927      0.149    -24.170      0.000      -3.885      -3.301\n",
      "np.log(Radius)     1.3439      0.059     22.649      0.000       1.227       1.460\n",
      "Texture            0.0231      0.003      7.026      0.000       0.017       0.030\n",
      "==============================================================================\n",
      "Omnibus:                       22.521   Durbin-Watson:                   1.559\n",
      "Prob(Omnibus):                  0.000   Jarque-Bera (JB):               22.690\n",
      "Skew:                           0.454   Prob(JB):                     1.18e-05\n",
      "Kurtosis:                       2.637   Cond. No.                         236.\n",
      "==============================================================================\n",
      "\n",
      "Warnings:\n",
      "[1] Standard Errors assume that the covariance matrix of the errors is correctly specified.\n"
     ]
    }
   ],
   "source": [
    "# R-style model description\n",
    "# Don't forget to add \"1\" to subtract the mean, when using Ordinary Least Squares regression model.\n",
    "mdl = smf.ols('Bool_Diagnosis ~ np.log(Radius) + Texture + 1', data=bcd)\n",
    "\n",
    "# Fit the model\n",
    "results = mdl.fit()\n",
    "print(results.summary())"
   ]
  },
  {
   "cell_type": "code",
   "execution_count": 4,
   "metadata": {},
   "outputs": [
    {
     "name": "stdout",
     "output_type": "stream",
     "text": [
      "                            OLS Regression Results                            \n",
      "==============================================================================\n",
      "Dep. Variable:                      y   R-squared:                       0.566\n",
      "Model:                            OLS   Adj. R-squared:                  0.564\n",
      "Method:                 Least Squares   F-statistic:                     368.9\n",
      "Date:                Sat, 06 Mar 2021   Prob (F-statistic):          2.82e-103\n",
      "Time:                        06:40:29   Log-Likelihood:                -156.49\n",
      "No. Observations:                 569   AIC:                             319.0\n",
      "Df Residuals:                     566   BIC:                             332.0\n",
      "Df Model:                           2                                         \n",
      "Covariance Type:            nonrobust                                         \n",
      "==============================================================================\n",
      "                 coef    std err          t      P>|t|      [0.025      0.975]\n",
      "------------------------------------------------------------------------------\n",
      "const         -3.5927      0.149    -24.170      0.000      -3.885      -3.301\n",
      "x1             1.3439      0.059     22.649      0.000       1.227       1.460\n",
      "x2             0.0231      0.003      7.026      0.000       0.017       0.030\n",
      "==============================================================================\n",
      "Omnibus:                       22.521   Durbin-Watson:                   1.559\n",
      "Prob(Omnibus):                  0.000   Jarque-Bera (JB):               22.690\n",
      "Skew:                           0.454   Prob(JB):                     1.18e-05\n",
      "Kurtosis:                       2.637   Cond. No.                         236.\n",
      "==============================================================================\n",
      "\n",
      "Warnings:\n",
      "[1] Standard Errors assume that the covariance matrix of the errors is correctly specified.\n"
     ]
    },
    {
     "data": {
      "image/png": "[encoded data removed]",
      "text/plain": [
       "<Figure size 432x288 with 1 Axes>"
      ]
     },
     "execution_count": 4,
     "metadata": {},
     "output_type": "execute_result"
    },
    {
     "data": {
      "image/png": "[encoded data removed]",
      "text/plain": [
       "<Figure size 432x288 with 1 Axes>"
      ]
     },
     "metadata": {
      "needs_background": "light"
     },
     "output_type": "display_data"
    }
   ],
   "source": [
    "# The same Ordinary Least Squares regression analysis can be done with Numpy arrays.\n",
    "\n",
    "y = bcd.Bool_Diagnosis.to_numpy()\n",
    "x = np.asarray(bcd.loc[:,[\"Radius\",\"Texture\"]])  # the same as .to_numpy()\n",
    "x[:,0] = np.log(x[:,0])\n",
    "\n",
    "# To use Numpy array, 'sm.OLS()' is used instead of 'smf.ols()'\n",
    "# Don't forget to add sm.add_constant() or np.ones(len(y)) to include a constant term.\n",
    "\n",
    "mdl = sm.OLS(y, sm.add_constant(x))    # model description with Numpy arrays\n",
    "results = mdl.fit()                    # fitting the model\n",
    "print(results.summary())\n",
    "# Note: Internally, 'smf.ols()' uses 'sm.OLS()'. So the result should be exactly the same.\n",
    "\n",
    "\n",
    "# https://www.statsmodels.org/stable/generated/statsmodels.graphics.regressionplots.plot_fit.html\n",
    "sm.graphics.plot_fit(results,2)"
   ]
  },
  {
   "cell_type": "code",
   "execution_count": 5,
   "metadata": {},
   "outputs": [
    {
     "name": "stdout",
     "output_type": "stream",
     "text": [
      "                 Generalized Linear Model Regression Results                  \n",
      "==============================================================================\n",
      "Dep. Variable:                      y   No. Observations:                  569\n",
      "Model:                            GLM   Df Residuals:                      562\n",
      "Model Family:                Gaussian   Df Model:                            6\n",
      "Link Function:               identity   Scale:                        0.081946\n",
      "Method:                          IRLS   Log-Likelihood:                -92.122\n",
      "Date:                Sat, 06 Mar 2021   Deviance:                       46.054\n",
      "Time:                        06:40:30   Pearson chi2:                     46.1\n",
      "No. Iterations:                     3                                         \n",
      "Covariance Type:            nonrobust                                         \n",
      "==============================================================================\n",
      "                 coef    std err          z      P>|z|      [0.025      0.975]\n",
      "------------------------------------------------------------------------------\n",
      "const         -1.8349      0.158    -11.596      0.000      -2.145      -1.525\n",
      "x1             0.0693      0.005     13.844      0.000       0.060       0.079\n",
      "x2             0.0218      0.003      7.191      0.000       0.016       0.028\n",
      "x3             5.0654      1.227      4.127      0.000       2.660       7.471\n",
      "x4            -0.3085      0.580     -0.532      0.595      -1.445       0.828\n",
      "x5             1.2855      0.392      3.275      0.001       0.516       2.055\n",
      "x6             1.3100      0.580      2.259      0.024       0.174       2.446\n",
      "==============================================================================\n"
     ]
    }
   ],
   "source": [
    "# An example of using Generalized Linear Model  https://www.statsmodels.org/stable/glm.html\n",
    "\n",
    "y = bcd.Bool_Diagnosis.to_numpy()\n",
    "x = bcd.loc[:,[\"Radius\",\"Texture\", 'Smoothness', 'Compactness','Concavity','Symmetry']].to_numpy()  # the same as .to_numpy()\n",
    "\n",
    "gaussian_model = sm.GLM(y, sm.add_constant(x), family=sm.families.Gaussian())\n",
    "gaussian_results = gaussian_model.fit()\n",
    "print(gaussian_results.summary())"
   ]
  },
  {
   "cell_type": "code",
   "execution_count": 6,
   "metadata": {},
   "outputs": [
    {
     "name": "stdout",
     "output_type": "stream",
     "text": [
      "test statistics: 25.435821610057015\n",
      "degree of freedom: 567.0\n",
      "p-value: 8.46594057226676e-96\n"
     ]
    }
   ],
   "source": [
    "# t-test\n",
    "# https://www.statsmodels.org/stable/generated/statsmodels.stats.weightstats.ttest_ind.html\n",
    "\n",
    "import statsmodels.stats.weightstats as ws\n",
    "\n",
    "a = bcd.loc[ bcd.Diagnosis == 'M' , 'Radius' ]\n",
    "b = bcd.loc[ bcd.Diagnosis == 'B' , 'Radius' ]\n",
    "\n",
    "tstat, pvalue, df = ws.ttest_ind(a,b)\n",
    "print('test statistics:', tstat)\n",
    "print('degree of freedom:', df)\n",
    "print('p-value:', pvalue)"
   ]
  },
  {
   "cell_type": "code",
   "execution_count": null,
   "metadata": {},
   "outputs": [],
   "source": []
  }
 ],
 "metadata": {
  "kernelspec": {
   "display_name": "Python 3",
   "language": "python",
   "name": "python3"
  },
  "language_info": {
   "codemirror_mode": {
    "name": "ipython",
    "version": 3
   },
   "file_extension": ".py",
   "mimetype": "text/x-python",
   "name": "python",
   "nbconvert_exporter": "python",
   "pygments_lexer": "ipython3",
   "version": "3.7.4"
  }
 },
 "nbformat": 4,
 "nbformat_minor": 4
}
